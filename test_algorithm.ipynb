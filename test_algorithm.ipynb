{
 "cells": [
  {
   "cell_type": "code",
   "execution_count": 1,
   "metadata": {},
   "outputs": [
    {
     "name": "stderr",
     "output_type": "stream",
     "text": [
      "c:\\Users\\crist\\anaconda3\\envs\\gaudi\\lib\\site-packages\\tqdm\\auto.py:21: TqdmWarning: IProgress not found. Please update jupyter and ipywidgets. See https://ipywidgets.readthedocs.io/en/stable/user_install.html\n",
      "  from .autonotebook import tqdm as notebook_tqdm\n"
     ]
    }
   ],
   "source": [
    "%load_ext autoreload\n",
    "%autoreload 2\n",
    "\n",
    "import qm9.visualizer as vis\n",
    "from eval_sample import *\n",
    "import argparse\n",
    "import warnings"
   ]
  },
  {
   "cell_type": "code",
   "execution_count": null,
   "metadata": {},
   "outputs": [],
   "source": [
    "parser = argparse.ArgumentParser()\n",
    "parser.add_argument('--model_path', type=str,\n",
    "                    default=\"outputs/edm_qm9\",\n",
    "                    help='Specify model path')\n",
    "parser.add_argument(\n",
    "    '--n_tries', type=int, default=10,\n",
    "    help='N tries to find stable molecule for gif animation')\n",
    "parser.add_argument('--n_nodes', type=int, default=19,\n",
    "                    help='number of atoms in molecule for gif animation')\n",
    "\n",
    "eval_args, unparsed_args = parser.parse_known_args()\n",
    "\n",
    "assert eval_args.model_path is not None\n",
    "\n",
    "print(join(eval_args.model_path, 'args.pickle'))\n",
    "\n",
    "with open(join(eval_args.model_path, 'args.pickle'), 'rb') as f:\n",
    "    args = pickle.load(f)\n",
    "\n",
    "# CAREFUL with this -->\n",
    "if not hasattr(args, 'normalization_factor'):\n",
    "    args.normalization_factor = 1\n",
    "if not hasattr(args, 'aggregation_method'):\n",
    "    args.aggregation_method = 'sum'\n",
    "\n",
    "args.cuda = not args.no_cuda and torch.cuda.is_available()\n",
    "device = torch.device(\"cuda\" if args.cuda else \"cpu\")\n",
    "args.device = device\n",
    "dtype = torch.float32\n",
    "utils.create_folders(args)\n",
    "print(args)\n",
    "\n",
    "dataset_info = get_dataset_info(args.dataset, args.remove_h)\n",
    "\n",
    "print(dataset_info)\n",
    "\n",
    "dataloaders, charge_scale = dataset.retrieve_dataloaders(args)\n",
    "\n",
    "flow, nodes_dist, prop_dist = get_model(\n",
    "    args, device, dataset_info, dataloaders['train'])\n",
    "flow.to(device)\n",
    "\n",
    "fn = 'generative_model_ema.npy' if args.ema_decay > 0 else 'generative_model.npy'\n",
    "flow_state_dict = torch.load(join(eval_args.model_path, fn),\n",
    "                                map_location=device)\n",
    "\n",
    "flow.load_state_dict(flow_state_dict)"
   ]
  },
  {
   "cell_type": "code",
   "execution_count": null,
   "metadata": {},
   "outputs": [],
   "source": [
    "print('Sampling handful of molecules.')\n",
    "# sample_different_sizes_and_save(\n",
    "#     args, eval_args, device, flow, nodes_dist,\n",
    "#     dataset_info=dataset_info, n_samples=29)\n",
    "\n",
    "print('Sampling stable molecules.')\n",
    "sample_only_stable_different_sizes_and_save(\n",
    "    args, eval_args, device, flow, nodes_dist,\n",
    "    dataset_info=dataset_info, n_samples=3, n_tries=2*10)"
   ]
  },
  {
   "cell_type": "code",
   "execution_count": 40,
   "metadata": {},
   "outputs": [],
   "source": [
    "vis.visualize(\n",
    "    join(eval_args.model_path, 'eval/molecules/'), dataset_info,\n",
    "    max_num=100, spheres_3d=True)"
   ]
  },
  {
   "cell_type": "code",
   "execution_count": null,
   "metadata": {},
   "outputs": [],
   "source": [
    "print('Sampling visualization chain.')\n",
    "save_and_sample_chain(\n",
    "    args, eval_args, device, flow,\n",
    "    n_tries=eval_args.n_tries, n_nodes=eval_args.n_nodes,\n",
    "    dataset_info=dataset_info)"
   ]
  }
 ],
 "metadata": {
  "kernelspec": {
   "display_name": "gaudi",
   "language": "python",
   "name": "python3"
  },
  "language_info": {
   "codemirror_mode": {
    "name": "ipython",
    "version": 3
   },
   "file_extension": ".py",
   "mimetype": "text/x-python",
   "name": "python",
   "nbconvert_exporter": "python",
   "pygments_lexer": "ipython3",
   "version": "3.8.20"
  }
 },
 "nbformat": 4,
 "nbformat_minor": 2
}
