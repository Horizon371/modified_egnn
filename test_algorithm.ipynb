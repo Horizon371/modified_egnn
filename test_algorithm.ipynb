{
 "cells": [
  {
   "cell_type": "code",
   "execution_count": 1,
   "metadata": {},
   "outputs": [
    {
     "name": "stderr",
     "output_type": "stream",
     "text": [
      "c:\\Users\\crist\\anaconda3\\envs\\gaudi\\lib\\site-packages\\tqdm\\auto.py:21: TqdmWarning: IProgress not found. Please update jupyter and ipywidgets. See https://ipywidgets.readthedocs.io/en/stable/user_install.html\n",
      "  from .autonotebook import tqdm as notebook_tqdm\n"
     ]
    }
   ],
   "source": [
    "%load_ext autoreload\n",
    "%autoreload 2\n",
    "\n",
    "import qm9.visualizer as vis\n",
    "from eval_sample import *\n",
    "import argparse\n",
    "import warnings"
   ]
  },
  {
   "cell_type": "code",
   "execution_count": 3,
   "metadata": {},
   "outputs": [
    {
     "name": "stdout",
     "output_type": "stream",
     "text": [
      "outputs/edm_qm9\\args.pickle\n",
      "Namespace(actnorm=True, aggregation_method='sum', attention=True, augment_noise=0, batch_size=64, break_train_epoch=False, brute_force=False, clip_grad=True, condition_time=True, conditioning=[], context_node_nf=0, cuda=True, current_epoch=1001, data_augmentation=False, datadir='qm9/temp', dataset='qm9', dequantization='argmax_variational', device=device(type='cuda'), diffusion_loss_type='l2', diffusion_noise_precision=1e-05, diffusion_noise_schedule='polynomial_2', diffusion_steps=1000, dp=True, ema_decay=0.9999, exp_name='polynomial_2_final_0', filter_n_atoms=None, generate_epochs=1, include_charges=True, inv_sublayers=1, lr=0.0001, model='egnn_dynamics', n_epochs=3000, n_layers=9, n_report_steps=1, n_stability_samples=1000, nf=256, no_cuda=False, no_wandb=False, norm_constant=1, normalization_factor=1, normalize_factors=[1, 4, 10], num_workers=0, ode_regularization=0.001, online=True, probabilistic_model='diffusion', remove_h=False, resume=None, save_model=True, sin_embedding=False, start_epoch=0, tanh=True, test_epochs=20, trace='hutch', visualize_every_batch=100000000.0, wandb_usr=None)\n",
      "{'name': 'qm9', 'atom_encoder': {'H': 0, 'C': 1, 'N': 2, 'O': 3, 'F': 4}, 'atom_decoder': ['H', 'C', 'N', 'O', 'F'], 'n_nodes': {22: 3393, 17: 13025, 23: 4848, 21: 9970, 19: 13832, 20: 9482, 16: 10644, 13: 3060, 15: 7796, 25: 1506, 18: 13364, 12: 1689, 11: 807, 24: 539, 14: 5136, 26: 48, 7: 16, 10: 362, 8: 49, 9: 124, 27: 266, 4: 4, 29: 25, 6: 9, 5: 5, 3: 1}, 'max_n_nodes': 29, 'atom_types': {1: 635559, 2: 101476, 0: 923537, 3: 140202, 4: 2323}, 'distances': [903054, 307308, 111994, 57474, 40384, 29170, 47152, 414344, 2202212, 573726, 1490786, 2970978, 756818, 969276, 489242, 1265402, 4587994, 3187130, 2454868, 2647422, 2098884, 2001974, 1625206, 1754172, 1620830, 1710042, 2133746, 1852492, 1415318, 1421064, 1223156, 1322256, 1380656, 1239244, 1084358, 981076, 896904, 762008, 659298, 604676, 523580, 437464, 413974, 352372, 291886, 271948, 231328, 188484, 160026, 136322, 117850, 103546, 87192, 76562, 61840, 49666, 43100, 33876, 26686, 22402, 18358, 15518, 13600, 12128, 9480, 7458, 5088, 4726, 3696, 3362, 3396, 2484, 1988, 1490, 984, 734, 600, 456, 482, 378, 362, 168, 124, 94, 88, 52, 44, 40, 18, 16, 8, 6, 2, 0, 0, 0, 0, 0, 0, 0], 'colors_dic': ['#FFFFFF99', 'C7', 'C0', 'C3', 'C1'], 'radius_dic': [0.46, 0.77, 0.77, 0.77, 0.77], 'with_h': True}\n",
      "Entropy of n_nodes: H[N] -2.475700616836548\n",
      "alphas2 [9.99990000e-01 9.99988000e-01 9.99982000e-01 ... 2.59676966e-05\n",
      " 1.39959211e-05 1.00039959e-05]\n",
      "gamma [-11.51291546 -11.33059532 -10.92513058 ...  10.55863126  11.17673063\n",
      "  11.51251595]\n"
     ]
    },
    {
     "data": {
      "text/plain": [
       "<All keys matched successfully>"
      ]
     },
     "execution_count": 3,
     "metadata": {},
     "output_type": "execute_result"
    }
   ],
   "source": [
    "parser = argparse.ArgumentParser()\n",
    "parser.add_argument('--model_path', type=str,\n",
    "                    default=\"outputs/edm_qm9\",\n",
    "                    help='Specify model path')\n",
    "parser.add_argument(\n",
    "    '--n_tries', type=int, default=10,\n",
    "    help='N tries to find stable molecule for gif animation')\n",
    "parser.add_argument('--n_nodes', type=int, default=19,\n",
    "                    help='number of atoms in molecule for gif animation')\n",
    "\n",
    "eval_args, unparsed_args = parser.parse_known_args()\n",
    "\n",
    "assert eval_args.model_path is not None\n",
    "\n",
    "print(join(eval_args.model_path, 'args.pickle'))\n",
    "\n",
    "with open(join(eval_args.model_path, 'args.pickle'), 'rb') as f:\n",
    "    args = pickle.load(f)\n",
    "\n",
    "# CAREFUL with this -->\n",
    "if not hasattr(args, 'normalization_factor'):\n",
    "    args.normalization_factor = 1\n",
    "if not hasattr(args, 'aggregation_method'):\n",
    "    args.aggregation_method = 'sum'\n",
    "\n",
    "args.cuda = not args.no_cuda and torch.cuda.is_available()\n",
    "device = torch.device(\"cuda\" if args.cuda else \"cpu\")\n",
    "args.device = device\n",
    "dtype = torch.float32\n",
    "utils.create_folders(args)\n",
    "print(args)\n",
    "\n",
    "dataset_info = get_dataset_info(args.dataset, args.remove_h)\n",
    "\n",
    "print(dataset_info)\n",
    "\n",
    "dataloaders, charge_scale = dataset.retrieve_dataloaders(args)\n",
    "\n",
    "flow, nodes_dist, prop_dist = get_model(\n",
    "    args, device, dataset_info, dataloaders['train'])\n",
    "flow.to(device)\n",
    "\n",
    "fn = 'generative_model_ema.npy' if args.ema_decay > 0 else 'generative_model.npy'\n",
    "flow_state_dict = torch.load(join(eval_args.model_path, fn),\n",
    "                                map_location=device)\n",
    "\n",
    "flow.load_state_dict(flow_state_dict)"
   ]
  },
  {
   "cell_type": "code",
   "execution_count": null,
   "metadata": {},
   "outputs": [
    {
     "name": "stdout",
     "output_type": "stream",
     "text": [
      "Sampling handful of molecules.\n",
      "Sampling stable molecules.\n"
     ]
    },
    {
     "name": "stderr",
     "output_type": "stream",
     "text": [
      "  0%|          | 0/1000 [00:00<?, ?it/s]Found local copy...\n"
     ]
    },
    {
     "name": "stdout",
     "output_type": "stream",
     "text": [
      "N.[H]N12#C3(#N14#C=3#C4N1(O)=O3456789%10%11%12=O%13%14#C=3%15%16%17#N=1=%13=43%18%19%20%21%22%23%24%25=C#N=3%1514%13%26#N3%15=O=1%27=O=3=41([H])F%15%16%13F%27%14%171%265%1834%13%15%16%28[H]6%1915%14%17%18[H]7%2036%19%26%27[H]18%21437%20[H]569%22%1314[H]%14%193%10%23%155[H]%17%2671%11%24%16[H]%18%27%2045%12%25%28)F2\n"
     ]
    },
    {
     "name": "stderr",
     "output_type": "stream",
     "text": [
      "Found local copy...\n",
      "  0%|          | 1/1000 [00:02<43:18,  2.60s/it]"
     ]
    },
    {
     "name": "stdout",
     "output_type": "stream",
     "text": [
      "N.[H]N12#C3(#N14#C=3#C4)F2.[H]O1234=N56#N=1789%10%11#CN71%12%13%14%15%16%17%18%19%20%21#C87%22%23#O=18=O=7=%121%24%25%26%27%28%29(=N=%13O)[H]%147%12%13%30%31%32[H]1%15%14%33%34%35%36[H]7%24%161%15%37%38[H]%12%14%25%177%16%24[H]%13%331%26%18%12%14[H]%30%34%157%27%191[H]%31%35%37%16%12%28%20F8%2229%32%36%38%24%141%29%21(O=5=3=%10)F6%234%11\n"
     ]
    },
    {
     "name": "stderr",
     "output_type": "stream",
     "text": [
      "Found local copy...\n",
      "Found local copy...\n",
      "  0%|          | 2/1000 [00:04<40:18,  2.42s/it]Found local copy...\n",
      "Found local copy...\n",
      "  0%|          | 3/1000 [00:07<39:52,  2.40s/it]Found local copy...\n",
      "Found local copy...\n",
      "  0%|          | 4/1000 [00:09<38:32,  2.32s/it]Found local copy...\n",
      "Found local copy...\n",
      "  0%|          | 5/1000 [00:11<37:59,  2.29s/it]Found local copy...\n",
      "Found local copy...\n",
      "  1%|          | 6/1000 [00:13<37:27,  2.26s/it]Found local copy...\n",
      "Found local copy...\n",
      "  1%|          | 7/1000 [00:16<37:13,  2.25s/it]Found local copy...\n",
      "Found local copy...\n",
      "  1%|          | 8/1000 [00:18<36:44,  2.22s/it]Found local copy...\n",
      "Found local copy...\n",
      "  1%|          | 9/1000 [00:20<38:41,  2.34s/it]Found local copy...\n",
      "Found local copy...\n",
      "  1%|          | 10/1000 [00:23<40:04,  2.43s/it]"
     ]
    },
    {
     "name": "stdout",
     "output_type": "stream",
     "text": [
      "Reward plus: 0.0, Reward minus: 0.0\n"
     ]
    },
    {
     "name": "stderr",
     "output_type": "stream",
     "text": [
      "Found local copy...\n"
     ]
    },
    {
     "name": "stdout",
     "output_type": "stream",
     "text": [
      "CC(#O)O.F.O.[H]N123456789%10%11(F)=O%12%13%14%15%16%17%18%19%20%21%22([H][H]1%12)N21%12%23#N3%132%24%25%26%27%28%29%30%31%32(=O=1%143%13%33(N)=O2F3%241(C4)[H]%12%13%25F%231%33%26)[H]5%151234%12%13[H]%165%14%15%23%24[H]16%17%27%16%25%26%33[H]527%18%2816%17[H]%143%168%19%2925[H]%154%2519%20%303[H]%23%12%2662%10%21%31[H]%24%13%33%1753%11%22%32\n"
     ]
    },
    {
     "name": "stderr",
     "output_type": "stream",
     "text": [
      "Found local copy...\n",
      "  1%|          | 11/1000 [00:26<41:23,  2.51s/it]"
     ]
    },
    {
     "name": "stdout",
     "output_type": "stream",
     "text": [
      "CC(#O)O.F.O.[H]N123456789%10%11(F)=O%12%13%14%15%16%17%18%19%20%21%22(=N1%23%24%25%26%27%28%29%30%31%32%33(#N2%121%34=O=%23%132%12%35(N)=O%24F2%25%13(C3)[H]1%12%26F%34%13%35%27)[H]4%14123%12%13%23[H]%154%14%24%25%26[H]15%16%28%15%27%34%35[H]426%17%2915%16[H]%143%157%18%3024[H]%24%12%2718%19%313[H]%25%13%34529%20%32[H]%26%23%35%1643%10%21%33)[H][H]%11%22\n"
     ]
    },
    {
     "name": "stderr",
     "output_type": "stream",
     "text": [
      "Found local copy...\n",
      "Found local copy...\n",
      "  1%|          | 12/1000 [00:28<42:23,  2.57s/it]Found local copy...\n",
      "Found local copy...\n",
      "  1%|▏         | 13/1000 [00:31<43:07,  2.62s/it]Found local copy...\n",
      "Found local copy...\n",
      "  1%|▏         | 14/1000 [00:34<41:38,  2.53s/it]Found local copy...\n",
      "Found local copy...\n",
      "  2%|▏         | 15/1000 [00:36<43:24,  2.64s/it]Found local copy...\n",
      "Found local copy...\n",
      "  2%|▏         | 16/1000 [00:39<42:24,  2.59s/it]Found local copy...\n",
      "Found local copy...\n",
      "  2%|▏         | 17/1000 [00:41<42:02,  2.57s/it]Found local copy...\n",
      "Found local copy...\n",
      "  2%|▏         | 18/1000 [00:44<41:56,  2.56s/it]"
     ]
    }
   ],
   "source": [
    "print('Sampling handful of molecules.')\n",
    "# sample_different_sizes_and_save(\n",
    "#     args, eval_args, device, flow, nodes_dist,\n",
    "#     dataset_info=dataset_info, n_samples=29)\n",
    "\n",
    "print('Sampling stable molecules.')\n",
    "sample_only_stable_different_sizes_and_save(\n",
    "    args, eval_args, device, flow, nodes_dist,\n",
    "    dataset_info=dataset_info, n_samples=3, n_tries=2*10)"
   ]
  },
  {
   "cell_type": "code",
   "execution_count": 40,
   "metadata": {},
   "outputs": [],
   "source": [
    "vis.visualize(\n",
    "    join(eval_args.model_path, 'eval/molecules/'), dataset_info,\n",
    "    max_num=100, spheres_3d=True)"
   ]
  },
  {
   "cell_type": "code",
   "execution_count": 5,
   "metadata": {},
   "outputs": [
    {
     "name": "stdout",
     "output_type": "stream",
     "text": [
      "Sampling visualization chain.\n",
      "{'integer': tensor([[[  2.],\n",
      "         [-14.],\n",
      "         [ -4.],\n",
      "         [ -9.],\n",
      "         [  1.],\n",
      "         [ -1.],\n",
      "         [  0.],\n",
      "         [-14.],\n",
      "         [  8.],\n",
      "         [  6.],\n",
      "         [ -7.],\n",
      "         [-13.],\n",
      "         [  7.],\n",
      "         [  6.],\n",
      "         [  0.],\n",
      "         [-11.],\n",
      "         [ 15.],\n",
      "         [  3.],\n",
      "         [ 20.]]], device='cuda:0'), 'categorical': tensor([[[0., 1., 0., 0., 0.],\n",
      "         [0., 1., 0., 0., 0.],\n",
      "         [0., 0., 0., 0., 1.],\n",
      "         [0., 1., 0., 0., 0.],\n",
      "         [0., 1., 0., 0., 0.],\n",
      "         [0., 0., 0., 1., 0.],\n",
      "         [0., 0., 1., 0., 0.],\n",
      "         [0., 0., 0., 0., 1.],\n",
      "         [0., 0., 0., 1., 0.],\n",
      "         [0., 1., 0., 0., 0.],\n",
      "         [0., 0., 0., 1., 0.],\n",
      "         [0., 0., 0., 0., 1.],\n",
      "         [0., 1., 0., 0., 0.],\n",
      "         [1., 0., 0., 0., 0.],\n",
      "         [0., 0., 1., 0., 0.],\n",
      "         [0., 0., 0., 0., 1.],\n",
      "         [0., 0., 0., 0., 1.],\n",
      "         [0., 0., 1., 0., 0.],\n",
      "         [1., 0., 0., 0., 0.]]], device='cuda:0')}\n"
     ]
    },
    {
     "ename": "AttributeError",
     "evalue": "'int' object has no attribute 'sum'",
     "output_type": "error",
     "traceback": [
      "\u001b[1;31m---------------------------------------------------------------------------\u001b[0m",
      "\u001b[1;31mAttributeError\u001b[0m                            Traceback (most recent call last)",
      "Cell \u001b[1;32mIn[5], line 2\u001b[0m\n\u001b[0;32m      1\u001b[0m \u001b[38;5;28mprint\u001b[39m(\u001b[38;5;124m'\u001b[39m\u001b[38;5;124mSampling visualization chain.\u001b[39m\u001b[38;5;124m'\u001b[39m)\n\u001b[1;32m----> 2\u001b[0m \u001b[43msave_and_sample_chain\u001b[49m\u001b[43m(\u001b[49m\n\u001b[0;32m      3\u001b[0m \u001b[43m    \u001b[49m\u001b[43margs\u001b[49m\u001b[43m,\u001b[49m\u001b[43m \u001b[49m\u001b[43meval_args\u001b[49m\u001b[43m,\u001b[49m\u001b[43m \u001b[49m\u001b[43mdevice\u001b[49m\u001b[43m,\u001b[49m\u001b[43m \u001b[49m\u001b[43mflow\u001b[49m\u001b[43m,\u001b[49m\n\u001b[0;32m      4\u001b[0m \u001b[43m    \u001b[49m\u001b[43mn_tries\u001b[49m\u001b[38;5;241;43m=\u001b[39;49m\u001b[43meval_args\u001b[49m\u001b[38;5;241;43m.\u001b[39;49m\u001b[43mn_tries\u001b[49m\u001b[43m,\u001b[49m\u001b[43m \u001b[49m\u001b[43mn_nodes\u001b[49m\u001b[38;5;241;43m=\u001b[39;49m\u001b[43meval_args\u001b[49m\u001b[38;5;241;43m.\u001b[39;49m\u001b[43mn_nodes\u001b[49m\u001b[43m,\u001b[49m\n\u001b[0;32m      5\u001b[0m \u001b[43m    \u001b[49m\u001b[43mdataset_info\u001b[49m\u001b[38;5;241;43m=\u001b[39;49m\u001b[43mdataset_info\u001b[49m\u001b[43m)\u001b[49m\n",
      "File \u001b[1;32md:\\Projects\\e3_diffusion_for_molecules\\eval_sample.py:35\u001b[0m, in \u001b[0;36msave_and_sample_chain\u001b[1;34m(args, eval_args, device, flow, n_tries, n_nodes, dataset_info, id_from, num_chains)\u001b[0m\n\u001b[0;32m     32\u001b[0m \u001b[38;5;28;01mfor\u001b[39;00m i \u001b[38;5;129;01min\u001b[39;00m \u001b[38;5;28mrange\u001b[39m(num_chains):\n\u001b[0;32m     33\u001b[0m     target_path \u001b[38;5;241m=\u001b[39m \u001b[38;5;124mf\u001b[39m\u001b[38;5;124m'\u001b[39m\u001b[38;5;124meval/chain_\u001b[39m\u001b[38;5;132;01m{\u001b[39;00mi\u001b[38;5;132;01m}\u001b[39;00m\u001b[38;5;124m/\u001b[39m\u001b[38;5;124m'\u001b[39m\n\u001b[1;32m---> 35\u001b[0m     one_hot, charges, x \u001b[38;5;241m=\u001b[39m \u001b[43msample_chain\u001b[49m\u001b[43m(\u001b[49m\n\u001b[0;32m     36\u001b[0m \u001b[43m        \u001b[49m\u001b[43margs\u001b[49m\u001b[43m,\u001b[49m\u001b[43m \u001b[49m\u001b[43mdevice\u001b[49m\u001b[43m,\u001b[49m\u001b[43m \u001b[49m\u001b[43mflow\u001b[49m\u001b[43m,\u001b[49m\u001b[43m \u001b[49m\u001b[43mn_tries\u001b[49m\u001b[43m,\u001b[49m\u001b[43m \u001b[49m\u001b[43mdataset_info\u001b[49m\u001b[43m)\u001b[49m\n\u001b[0;32m     38\u001b[0m     vis\u001b[38;5;241m.\u001b[39msave_xyz_file(\n\u001b[0;32m     39\u001b[0m         join(eval_args\u001b[38;5;241m.\u001b[39mmodel_path, target_path), one_hot, charges, x,\n\u001b[0;32m     40\u001b[0m         dataset_info, id_from, name\u001b[38;5;241m=\u001b[39m\u001b[38;5;124m'\u001b[39m\u001b[38;5;124mchain\u001b[39m\u001b[38;5;124m'\u001b[39m)\n\u001b[0;32m     42\u001b[0m     vis\u001b[38;5;241m.\u001b[39mvisualize_chain_uncertainty(\n\u001b[0;32m     43\u001b[0m         join(eval_args\u001b[38;5;241m.\u001b[39mmodel_path, target_path), dataset_info,\n\u001b[0;32m     44\u001b[0m         spheres_3d\u001b[38;5;241m=\u001b[39m\u001b[38;5;28;01mTrue\u001b[39;00m)\n",
      "File \u001b[1;32md:\\Projects\\e3_diffusion_for_molecules\\qm9\\sampling.py:79\u001b[0m, in \u001b[0;36msample_chain\u001b[1;34m(args, device, flow, n_tries, dataset_info, prop_dist)\u001b[0m\n\u001b[0;32m     77\u001b[0m one_hot, charges, x \u001b[38;5;241m=\u001b[39m \u001b[38;5;28;01mNone\u001b[39;00m, \u001b[38;5;28;01mNone\u001b[39;00m, \u001b[38;5;28;01mNone\u001b[39;00m\n\u001b[0;32m     78\u001b[0m \u001b[38;5;28;01mfor\u001b[39;00m i \u001b[38;5;129;01min\u001b[39;00m \u001b[38;5;28mrange\u001b[39m(n_tries):\n\u001b[1;32m---> 79\u001b[0m     chain \u001b[38;5;241m=\u001b[39m \u001b[43mflow\u001b[49m\u001b[38;5;241;43m.\u001b[39;49m\u001b[43msample_chain\u001b[49m\u001b[43m(\u001b[49m\u001b[43mn_samples\u001b[49m\u001b[43m,\u001b[49m\u001b[43m \u001b[49m\u001b[43mn_nodes\u001b[49m\u001b[43m,\u001b[49m\u001b[43m \u001b[49m\u001b[43mnode_mask\u001b[49m\u001b[43m,\u001b[49m\u001b[43m \u001b[49m\u001b[43medge_mask\u001b[49m\u001b[43m,\u001b[49m\u001b[43m \u001b[49m\u001b[43mcontext\u001b[49m\u001b[43m,\u001b[49m\u001b[43m \u001b[49m\u001b[43mkeep_frames\u001b[49m\u001b[38;5;241;43m=\u001b[39;49m\u001b[38;5;241;43m100\u001b[39;49m\u001b[43m)\u001b[49m\n\u001b[0;32m     80\u001b[0m     chain \u001b[38;5;241m=\u001b[39m reverse_tensor(chain)\n\u001b[0;32m     82\u001b[0m     \u001b[38;5;66;03m# Repeat last frame to see final sample better.\u001b[39;00m\n",
      "File \u001b[1;32mc:\\Users\\crist\\anaconda3\\envs\\gaudi\\lib\\site-packages\\torch\\autograd\\grad_mode.py:28\u001b[0m, in \u001b[0;36m_DecoratorContextManager.__call__.<locals>.decorate_context\u001b[1;34m(*args, **kwargs)\u001b[0m\n\u001b[0;32m     25\u001b[0m \u001b[38;5;129m@functools\u001b[39m\u001b[38;5;241m.\u001b[39mwraps(func)\n\u001b[0;32m     26\u001b[0m \u001b[38;5;28;01mdef\u001b[39;00m \u001b[38;5;21mdecorate_context\u001b[39m(\u001b[38;5;241m*\u001b[39margs, \u001b[38;5;241m*\u001b[39m\u001b[38;5;241m*\u001b[39mkwargs):\n\u001b[0;32m     27\u001b[0m     \u001b[38;5;28;01mwith\u001b[39;00m \u001b[38;5;28mself\u001b[39m\u001b[38;5;241m.\u001b[39m\u001b[38;5;18m__class__\u001b[39m():\n\u001b[1;32m---> 28\u001b[0m         \u001b[38;5;28;01mreturn\u001b[39;00m \u001b[43mfunc\u001b[49m\u001b[43m(\u001b[49m\u001b[38;5;241;43m*\u001b[39;49m\u001b[43margs\u001b[49m\u001b[43m,\u001b[49m\u001b[43m \u001b[49m\u001b[38;5;241;43m*\u001b[39;49m\u001b[38;5;241;43m*\u001b[39;49m\u001b[43mkwargs\u001b[49m\u001b[43m)\u001b[49m\n",
      "File \u001b[1;32md:\\Projects\\e3_diffusion_for_molecules\\equivariant_diffusion\\en_diffusion.py:861\u001b[0m, in \u001b[0;36mEnVariationalDiffusion.sample_chain\u001b[1;34m(self, n_samples, n_nodes, node_mask, edge_mask, context, keep_frames)\u001b[0m\n\u001b[0;32m    858\u001b[0m s_array \u001b[38;5;241m=\u001b[39m s_array \u001b[38;5;241m/\u001b[39m \u001b[38;5;28mself\u001b[39m\u001b[38;5;241m.\u001b[39mT\n\u001b[0;32m    859\u001b[0m t_array \u001b[38;5;241m=\u001b[39m t_array \u001b[38;5;241m/\u001b[39m \u001b[38;5;28mself\u001b[39m\u001b[38;5;241m.\u001b[39mT\n\u001b[1;32m--> 861\u001b[0m z \u001b[38;5;241m=\u001b[39m \u001b[38;5;28;43mself\u001b[39;49m\u001b[38;5;241;43m.\u001b[39;49m\u001b[43msample_p_zs_given_zt\u001b[49m\u001b[43m(\u001b[49m\n\u001b[0;32m    862\u001b[0m \u001b[43m    \u001b[49m\u001b[43ms_array\u001b[49m\u001b[43m,\u001b[49m\u001b[43m \u001b[49m\u001b[43mt_array\u001b[49m\u001b[43m,\u001b[49m\u001b[43m \u001b[49m\u001b[43mz\u001b[49m\u001b[43m,\u001b[49m\u001b[43m \u001b[49m\u001b[43mnode_mask\u001b[49m\u001b[43m,\u001b[49m\u001b[43m \u001b[49m\u001b[43medge_mask\u001b[49m\u001b[43m,\u001b[49m\u001b[43m \u001b[49m\u001b[43mcontext\u001b[49m\u001b[43m)\u001b[49m\n\u001b[0;32m    864\u001b[0m diffusion_utils\u001b[38;5;241m.\u001b[39massert_mean_zero_with_mask(z[:, :, :\u001b[38;5;28mself\u001b[39m\u001b[38;5;241m.\u001b[39mn_dims], node_mask)\n\u001b[0;32m    866\u001b[0m \u001b[38;5;66;03m# Write to chain tensor.\u001b[39;00m\n",
      "File \u001b[1;32md:\\Projects\\e3_diffusion_for_molecules\\equivariant_diffusion\\en_diffusion.py:759\u001b[0m, in \u001b[0;36mEnVariationalDiffusion.sample_p_zs_given_zt\u001b[1;34m(self, s, t, zt, node_mask, edge_mask, context, fix_noise)\u001b[0m\n\u001b[0;32m    757\u001b[0m \u001b[38;5;28;01mwith\u001b[39;00m torch\u001b[38;5;241m.\u001b[39menable_grad():\n\u001b[0;32m    758\u001b[0m     zs \u001b[38;5;241m=\u001b[39m zs\u001b[38;5;241m.\u001b[39mrequires_grad_()\n\u001b[1;32m--> 759\u001b[0m     result_sum \u001b[38;5;241m=\u001b[39m \u001b[43mtarget_result\u001b[49m\u001b[38;5;241;43m.\u001b[39;49m\u001b[43msum\u001b[49m()\n\u001b[0;32m    760\u001b[0m     energy \u001b[38;5;241m=\u001b[39m \u001b[38;5;241m1\u001b[39m \u001b[38;5;241m*\u001b[39m result_sum\n\u001b[0;32m    761\u001b[0m     grad \u001b[38;5;241m=\u001b[39m autograd\u001b[38;5;241m.\u001b[39mgrad(energy, zs)[\u001b[38;5;241m0\u001b[39m]\n",
      "\u001b[1;31mAttributeError\u001b[0m: 'int' object has no attribute 'sum'"
     ]
    }
   ],
   "source": [
    "print('Sampling visualization chain.')\n",
    "save_and_sample_chain(\n",
    "    args, eval_args, device, flow,\n",
    "    n_tries=eval_args.n_tries, n_nodes=eval_args.n_nodes,\n",
    "    dataset_info=dataset_info)"
   ]
  }
 ],
 "metadata": {
  "kernelspec": {
   "display_name": "gaudi",
   "language": "python",
   "name": "python3"
  },
  "language_info": {
   "codemirror_mode": {
    "name": "ipython",
    "version": 3
   },
   "file_extension": ".py",
   "mimetype": "text/x-python",
   "name": "python",
   "nbconvert_exporter": "python",
   "pygments_lexer": "ipython3",
   "version": "3.8.20"
  }
 },
 "nbformat": 4,
 "nbformat_minor": 2
}
