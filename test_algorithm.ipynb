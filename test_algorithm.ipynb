{
 "cells": [
  {
   "cell_type": "code",
   "execution_count": 13,
   "metadata": {},
   "outputs": [
    {
     "name": "stdout",
     "output_type": "stream",
     "text": [
      "The autoreload extension is already loaded. To reload it, use:\n",
      "  %reload_ext autoreload\n"
     ]
    }
   ],
   "source": [
    "%load_ext autoreload\n",
    "%autoreload 2\n",
    "\n",
    "import qm9.visualizer as vis\n",
    "from eval_sample import *\n",
    "import argparse\n",
    "import warnings"
   ]
  },
  {
   "cell_type": "code",
   "execution_count": 14,
   "metadata": {},
   "outputs": [
    {
     "name": "stdout",
     "output_type": "stream",
     "text": [
      "outputs/edm_qm9\\args.pickle\n",
      "Namespace(actnorm=True, aggregation_method='sum', attention=True, augment_noise=0, batch_size=64, break_train_epoch=False, brute_force=False, clip_grad=True, condition_time=True, conditioning=[], context_node_nf=0, cuda=True, current_epoch=1001, data_augmentation=False, datadir='qm9/temp', dataset='qm9', dequantization='argmax_variational', device=device(type='cuda'), diffusion_loss_type='l2', diffusion_noise_precision=1e-05, diffusion_noise_schedule='polynomial_2', diffusion_steps=1000, dp=True, ema_decay=0.9999, exp_name='polynomial_2_final_0', filter_n_atoms=None, generate_epochs=1, include_charges=True, inv_sublayers=1, lr=0.0001, model='egnn_dynamics', n_epochs=3000, n_layers=9, n_report_steps=1, n_stability_samples=1000, nf=256, no_cuda=False, no_wandb=False, norm_constant=1, normalization_factor=1, normalize_factors=[1, 4, 10], num_workers=0, ode_regularization=0.001, online=True, probabilistic_model='diffusion', remove_h=False, resume=None, save_model=True, sin_embedding=False, start_epoch=0, tanh=True, test_epochs=20, trace='hutch', visualize_every_batch=100000000.0, wandb_usr=None)\n",
      "{'name': 'qm9', 'atom_encoder': {'H': 0, 'C': 1, 'N': 2, 'O': 3, 'F': 4}, 'atom_decoder': ['H', 'C', 'N', 'O', 'F'], 'n_nodes': {22: 3393, 17: 13025, 23: 4848, 21: 9970, 19: 13832, 20: 9482, 16: 10644, 13: 3060, 15: 7796, 25: 1506, 18: 13364, 12: 1689, 11: 807, 24: 539, 14: 5136, 26: 48, 7: 16, 10: 362, 8: 49, 9: 124, 27: 266, 4: 4, 29: 25, 6: 9, 5: 5, 3: 1}, 'max_n_nodes': 29, 'atom_types': {1: 635559, 2: 101476, 0: 923537, 3: 140202, 4: 2323}, 'distances': [903054, 307308, 111994, 57474, 40384, 29170, 47152, 414344, 2202212, 573726, 1490786, 2970978, 756818, 969276, 489242, 1265402, 4587994, 3187130, 2454868, 2647422, 2098884, 2001974, 1625206, 1754172, 1620830, 1710042, 2133746, 1852492, 1415318, 1421064, 1223156, 1322256, 1380656, 1239244, 1084358, 981076, 896904, 762008, 659298, 604676, 523580, 437464, 413974, 352372, 291886, 271948, 231328, 188484, 160026, 136322, 117850, 103546, 87192, 76562, 61840, 49666, 43100, 33876, 26686, 22402, 18358, 15518, 13600, 12128, 9480, 7458, 5088, 4726, 3696, 3362, 3396, 2484, 1988, 1490, 984, 734, 600, 456, 482, 378, 362, 168, 124, 94, 88, 52, 44, 40, 18, 16, 8, 6, 2, 0, 0, 0, 0, 0, 0, 0], 'colors_dic': ['#FFFFFF99', 'C7', 'C0', 'C3', 'C1'], 'radius_dic': [0.46, 0.77, 0.77, 0.77, 0.77], 'with_h': True}\n",
      "Entropy of n_nodes: H[N] -2.475700616836548\n",
      "alphas2 [9.99990000e-01 9.99988000e-01 9.99982000e-01 ... 2.59676966e-05\n",
      " 1.39959211e-05 1.00039959e-05]\n",
      "gamma [-11.51291546 -11.33059532 -10.92513058 ...  10.55863126  11.17673063\n",
      "  11.51251595]\n"
     ]
    },
    {
     "data": {
      "text/plain": [
       "<All keys matched successfully>"
      ]
     },
     "execution_count": 14,
     "metadata": {},
     "output_type": "execute_result"
    }
   ],
   "source": [
    "parser = argparse.ArgumentParser()\n",
    "parser.add_argument('--model_path', type=str,\n",
    "                    default=\"outputs/edm_qm9\",\n",
    "                    help='Specify model path')\n",
    "parser.add_argument(\n",
    "    '--n_tries', type=int, default=10,\n",
    "    help='N tries to find stable molecule for gif animation')\n",
    "parser.add_argument('--n_nodes', type=int, default=19,\n",
    "                    help='number of atoms in molecule for gif animation')\n",
    "\n",
    "eval_args, unparsed_args = parser.parse_known_args()\n",
    "\n",
    "assert eval_args.model_path is not None\n",
    "\n",
    "print(join(eval_args.model_path, 'args.pickle'))\n",
    "\n",
    "with open(join(eval_args.model_path, 'args.pickle'), 'rb') as f:\n",
    "    args = pickle.load(f)\n",
    "\n",
    "# CAREFUL with this -->\n",
    "if not hasattr(args, 'normalization_factor'):\n",
    "    args.normalization_factor = 1\n",
    "if not hasattr(args, 'aggregation_method'):\n",
    "    args.aggregation_method = 'sum'\n",
    "\n",
    "args.cuda = not args.no_cuda and torch.cuda.is_available()\n",
    "device = torch.device(\"cuda\" if args.cuda else \"cpu\")\n",
    "args.device = device\n",
    "dtype = torch.float32\n",
    "utils.create_folders(args)\n",
    "print(args)\n",
    "\n",
    "dataset_info = get_dataset_info(args.dataset, args.remove_h)\n",
    "\n",
    "print(dataset_info)\n",
    "\n",
    "dataloaders, charge_scale = dataset.retrieve_dataloaders(args)\n",
    "\n",
    "flow, nodes_dist, prop_dist = get_model(\n",
    "    args, device, dataset_info, dataloaders['train'])\n",
    "flow.to(device)\n",
    "\n",
    "fn = 'generative_model_ema.npy' if args.ema_decay > 0 else 'generative_model.npy'\n",
    "flow_state_dict = torch.load(join(eval_args.model_path, fn),\n",
    "                                map_location=device)\n",
    "\n",
    "flow.load_state_dict(flow_state_dict)"
   ]
  },
  {
   "cell_type": "code",
   "execution_count": 30,
   "metadata": {},
   "outputs": [
    {
     "name": "stdout",
     "output_type": "stream",
     "text": [
      "['c:\\\\Users\\\\crist\\\\anaconda3\\\\envs\\\\gaudi', 'c:\\\\Users\\\\crist\\\\anaconda3\\\\envs\\\\gaudi\\\\lib\\\\site-packages']\n"
     ]
    }
   ],
   "source": [
    "import site\n",
    "print(site.getsitepackages())"
   ]
  },
  {
   "cell_type": "code",
   "execution_count": 42,
   "metadata": {},
   "outputs": [
    {
     "name": "stdout",
     "output_type": "stream",
     "text": [
      "Sampling handful of molecules.\n",
      "Sampling stable molecules.\n"
     ]
    },
    {
     "name": "stderr",
     "output_type": "stream",
     "text": [
      "  2%|▏         | 20/1000 [01:41<1:23:13,  5.10s/it]\n"
     ]
    },
    {
     "ename": "KeyboardInterrupt",
     "evalue": "",
     "output_type": "error",
     "traceback": [
      "\u001b[1;31m---------------------------------------------------------------------------\u001b[0m",
      "\u001b[1;31mKeyboardInterrupt\u001b[0m                         Traceback (most recent call last)",
      "Cell \u001b[1;32mIn[42], line 7\u001b[0m\n\u001b[0;32m      2\u001b[0m \u001b[38;5;66;03m# sample_different_sizes_and_save(\u001b[39;00m\n\u001b[0;32m      3\u001b[0m \u001b[38;5;66;03m#     args, eval_args, device, flow, nodes_dist,\u001b[39;00m\n\u001b[0;32m      4\u001b[0m \u001b[38;5;66;03m#     dataset_info=dataset_info, n_samples=29)\u001b[39;00m\n\u001b[0;32m      6\u001b[0m \u001b[38;5;28mprint\u001b[39m(\u001b[38;5;124m'\u001b[39m\u001b[38;5;124mSampling stable molecules.\u001b[39m\u001b[38;5;124m'\u001b[39m)\n\u001b[1;32m----> 7\u001b[0m \u001b[43msample_only_stable_different_sizes_and_save\u001b[49m\u001b[43m(\u001b[49m\n\u001b[0;32m      8\u001b[0m \u001b[43m    \u001b[49m\u001b[43margs\u001b[49m\u001b[43m,\u001b[49m\u001b[43m \u001b[49m\u001b[43meval_args\u001b[49m\u001b[43m,\u001b[49m\u001b[43m \u001b[49m\u001b[43mdevice\u001b[49m\u001b[43m,\u001b[49m\u001b[43m \u001b[49m\u001b[43mflow\u001b[49m\u001b[43m,\u001b[49m\u001b[43m \u001b[49m\u001b[43mnodes_dist\u001b[49m\u001b[43m,\u001b[49m\n\u001b[0;32m      9\u001b[0m \u001b[43m    \u001b[49m\u001b[43mdataset_info\u001b[49m\u001b[38;5;241;43m=\u001b[39;49m\u001b[43mdataset_info\u001b[49m\u001b[43m,\u001b[49m\u001b[43m \u001b[49m\u001b[43mn_samples\u001b[49m\u001b[38;5;241;43m=\u001b[39;49m\u001b[38;5;241;43m3\u001b[39;49m\u001b[43m,\u001b[49m\u001b[43m \u001b[49m\u001b[43mn_tries\u001b[49m\u001b[38;5;241;43m=\u001b[39;49m\u001b[38;5;241;43m2\u001b[39;49m\u001b[38;5;241;43m*\u001b[39;49m\u001b[38;5;241;43m10\u001b[39;49m\u001b[43m)\u001b[49m\n",
      "File \u001b[1;32md:\\Projects\\e3_diffusion_for_molecules\\eval_sample.py:68\u001b[0m, in \u001b[0;36msample_only_stable_different_sizes_and_save\u001b[1;34m(args, eval_args, device, flow, nodes_dist, dataset_info, n_samples, n_tries)\u001b[0m\n\u001b[0;32m     65\u001b[0m \u001b[38;5;28;01massert\u001b[39;00m n_tries \u001b[38;5;241m>\u001b[39m n_samples\n\u001b[0;32m     67\u001b[0m nodesxsample \u001b[38;5;241m=\u001b[39m nodes_dist\u001b[38;5;241m.\u001b[39msample(n_tries)\n\u001b[1;32m---> 68\u001b[0m one_hot, charges, x, node_mask \u001b[38;5;241m=\u001b[39m \u001b[43msample\u001b[49m\u001b[43m(\u001b[49m\n\u001b[0;32m     69\u001b[0m \u001b[43m    \u001b[49m\u001b[43margs\u001b[49m\u001b[43m,\u001b[49m\u001b[43m \u001b[49m\u001b[43mdevice\u001b[49m\u001b[43m,\u001b[49m\u001b[43m \u001b[49m\u001b[43mflow\u001b[49m\u001b[43m,\u001b[49m\u001b[43m \u001b[49m\u001b[43mdataset_info\u001b[49m\u001b[43m,\u001b[49m\n\u001b[0;32m     70\u001b[0m \u001b[43m    \u001b[49m\u001b[43mnodesxsample\u001b[49m\u001b[38;5;241;43m=\u001b[39;49m\u001b[43mnodesxsample\u001b[49m\u001b[43m)\u001b[49m\n\u001b[0;32m     72\u001b[0m counter \u001b[38;5;241m=\u001b[39m \u001b[38;5;241m0\u001b[39m\n\u001b[0;32m     73\u001b[0m \u001b[38;5;28;01mfor\u001b[39;00m i \u001b[38;5;129;01min\u001b[39;00m \u001b[38;5;28mrange\u001b[39m(n_tries):\n",
      "File \u001b[1;32md:\\Projects\\e3_diffusion_for_molecules\\qm9\\sampling.py:139\u001b[0m, in \u001b[0;36msample\u001b[1;34m(args, device, generative_model, dataset_info, prop_dist, nodesxsample, context, fix_noise)\u001b[0m\n\u001b[0;32m    136\u001b[0m     context \u001b[38;5;241m=\u001b[39m \u001b[38;5;28;01mNone\u001b[39;00m\n\u001b[0;32m    138\u001b[0m \u001b[38;5;28;01mif\u001b[39;00m args\u001b[38;5;241m.\u001b[39mprobabilistic_model \u001b[38;5;241m==\u001b[39m \u001b[38;5;124m'\u001b[39m\u001b[38;5;124mdiffusion\u001b[39m\u001b[38;5;124m'\u001b[39m:\n\u001b[1;32m--> 139\u001b[0m     x, h \u001b[38;5;241m=\u001b[39m \u001b[43mgenerative_model\u001b[49m\u001b[38;5;241;43m.\u001b[39;49m\u001b[43msample\u001b[49m\u001b[43m(\u001b[49m\u001b[43mbatch_size\u001b[49m\u001b[43m,\u001b[49m\u001b[43m \u001b[49m\u001b[43mmax_n_nodes\u001b[49m\u001b[43m,\u001b[49m\u001b[43m \u001b[49m\u001b[43mnode_mask\u001b[49m\u001b[43m,\u001b[49m\u001b[43m \u001b[49m\u001b[43medge_mask\u001b[49m\u001b[43m,\u001b[49m\u001b[43m \u001b[49m\u001b[43mcontext\u001b[49m\u001b[43m,\u001b[49m\u001b[43m \u001b[49m\u001b[43mfix_noise\u001b[49m\u001b[38;5;241;43m=\u001b[39;49m\u001b[43mfix_noise\u001b[49m\u001b[43m,\u001b[49m\u001b[43m \u001b[49m\u001b[43mdataset_info\u001b[49m\u001b[43m \u001b[49m\u001b[38;5;241;43m=\u001b[39;49m\u001b[43m \u001b[49m\u001b[43mdataset_info\u001b[49m\u001b[43m)\u001b[49m\n\u001b[0;32m    141\u001b[0m     assert_correctly_masked(x, node_mask)\n\u001b[0;32m    142\u001b[0m     assert_mean_zero_with_mask(x, node_mask)\n",
      "File \u001b[1;32mc:\\Users\\crist\\anaconda3\\envs\\gaudi\\lib\\site-packages\\torch\\autograd\\grad_mode.py:28\u001b[0m, in \u001b[0;36m_DecoratorContextManager.__call__.<locals>.decorate_context\u001b[1;34m(*args, **kwargs)\u001b[0m\n\u001b[0;32m     25\u001b[0m \u001b[38;5;129m@functools\u001b[39m\u001b[38;5;241m.\u001b[39mwraps(func)\n\u001b[0;32m     26\u001b[0m \u001b[38;5;28;01mdef\u001b[39;00m \u001b[38;5;21mdecorate_context\u001b[39m(\u001b[38;5;241m*\u001b[39margs, \u001b[38;5;241m*\u001b[39m\u001b[38;5;241m*\u001b[39mkwargs):\n\u001b[0;32m     27\u001b[0m     \u001b[38;5;28;01mwith\u001b[39;00m \u001b[38;5;28mself\u001b[39m\u001b[38;5;241m.\u001b[39m\u001b[38;5;18m__class__\u001b[39m():\n\u001b[1;32m---> 28\u001b[0m         \u001b[38;5;28;01mreturn\u001b[39;00m \u001b[43mfunc\u001b[49m\u001b[43m(\u001b[49m\u001b[38;5;241;43m*\u001b[39;49m\u001b[43margs\u001b[49m\u001b[43m,\u001b[49m\u001b[43m \u001b[49m\u001b[38;5;241;43m*\u001b[39;49m\u001b[38;5;241;43m*\u001b[39;49m\u001b[43mkwargs\u001b[49m\u001b[43m)\u001b[49m\n",
      "File \u001b[1;32md:\\Projects\\e3_diffusion_for_molecules\\equivariant_diffusion\\en_diffusion.py:862\u001b[0m, in \u001b[0;36mEnVariationalDiffusion.sample\u001b[1;34m(self, n_samples, n_nodes, node_mask, edge_mask, context, fix_noise, dataset_info)\u001b[0m\n\u001b[0;32m    860\u001b[0m         s_array \u001b[38;5;241m=\u001b[39m s_array \u001b[38;5;241m/\u001b[39m \u001b[38;5;28mself\u001b[39m\u001b[38;5;241m.\u001b[39mT\n\u001b[0;32m    861\u001b[0m         t_array \u001b[38;5;241m=\u001b[39m t_array \u001b[38;5;241m/\u001b[39m \u001b[38;5;28mself\u001b[39m\u001b[38;5;241m.\u001b[39mT\n\u001b[1;32m--> 862\u001b[0m         z \u001b[38;5;241m=\u001b[39m \u001b[38;5;28;43mself\u001b[39;49m\u001b[38;5;241;43m.\u001b[39;49m\u001b[43msample_p_zs_given_zt\u001b[49m\u001b[43m(\u001b[49m\u001b[43ms_array\u001b[49m\u001b[43m,\u001b[49m\u001b[43m \u001b[49m\u001b[43mt_array\u001b[49m\u001b[43m,\u001b[49m\u001b[43m \u001b[49m\u001b[43mz\u001b[49m\u001b[43m,\u001b[49m\u001b[43m \u001b[49m\u001b[43mnode_mask\u001b[49m\u001b[43m,\u001b[49m\u001b[43m \u001b[49m\u001b[43medge_mask\u001b[49m\u001b[43m,\u001b[49m\u001b[43m \u001b[49m\u001b[43mcontext\u001b[49m\u001b[43m,\u001b[49m\u001b[43m \u001b[49m\u001b[43mfix_noise\u001b[49m\u001b[38;5;241;43m=\u001b[39;49m\u001b[43mfix_noise\u001b[49m\u001b[43m,\u001b[49m\u001b[43m \u001b[49m\u001b[43mdataset_info\u001b[49m\u001b[38;5;241;43m=\u001b[39;49m\u001b[43mdataset_info\u001b[49m\u001b[43m)\u001b[49m\n\u001b[0;32m    863\u001b[0m         pbar\u001b[38;5;241m.\u001b[39mupdate(\u001b[38;5;241m1\u001b[39m)\n\u001b[0;32m    866\u001b[0m \u001b[38;5;66;03m# Finally sample p(x, h | z_0).\u001b[39;00m\n",
      "File \u001b[1;32md:\\Projects\\e3_diffusion_for_molecules\\equivariant_diffusion\\en_diffusion.py:825\u001b[0m, in \u001b[0;36mEnVariationalDiffusion.sample_p_zs_given_zt\u001b[1;34m(self, s, t, zt, node_mask, edge_mask, context, fix_noise, dataset_info)\u001b[0m\n\u001b[0;32m    822\u001b[0m \u001b[38;5;66;03m# Sample zs given the paramters derived from zt.\u001b[39;00m\n\u001b[0;32m    823\u001b[0m zs \u001b[38;5;241m=\u001b[39m \u001b[38;5;28mself\u001b[39m\u001b[38;5;241m.\u001b[39msample_normal(mu, sigma, node_mask, fix_noise)\n\u001b[1;32m--> 825\u001b[0m zs \u001b[38;5;241m=\u001b[39m \u001b[38;5;28;43mself\u001b[39;49m\u001b[38;5;241;43m.\u001b[39;49m\u001b[43mfinite_difference_update_with_target_function\u001b[49m\u001b[43m(\u001b[49m\u001b[43mzs\u001b[49m\u001b[43m,\u001b[49m\u001b[43m \u001b[49m\u001b[43mnode_mask\u001b[49m\u001b[43m,\u001b[49m\u001b[43m \u001b[49m\u001b[43medge_mask\u001b[49m\u001b[43m,\u001b[49m\u001b[43m \u001b[49m\u001b[43mcontext\u001b[49m\u001b[43m,\u001b[49m\u001b[43m \u001b[49m\u001b[43mfix_noise\u001b[49m\u001b[43m,\u001b[49m\u001b[43m \u001b[49m\u001b[43mdataset_info\u001b[49m\u001b[43m,\u001b[49m\u001b[43m \u001b[49m\u001b[43mt\u001b[49m\u001b[43m)\u001b[49m\n\u001b[0;32m    827\u001b[0m \u001b[38;5;28;01mreturn\u001b[39;00m zs\n",
      "File \u001b[1;32md:\\Projects\\e3_diffusion_for_molecules\\equivariant_diffusion\\en_diffusion.py:784\u001b[0m, in \u001b[0;36mEnVariationalDiffusion.finite_difference_update_with_target_function\u001b[1;34m(self, zs, node_mask, edge_mask, context, fix_noise, dataset_info, t, epsilon, lr)\u001b[0m\n\u001b[0;32m    781\u001b[0m     \u001b[38;5;28mprint\u001b[39m(molecules[\u001b[38;5;241m0\u001b[39m])\n\u001b[0;32m    783\u001b[0m reward_plus \u001b[38;5;241m=\u001b[39m \u001b[38;5;28mself\u001b[39m\u001b[38;5;241m.\u001b[39mtarget_function(zs \u001b[38;5;241m+\u001b[39m epsilon, node_mask, edge_mask, context, fix_noise, dataset_info, t)\n\u001b[1;32m--> 784\u001b[0m reward_minus \u001b[38;5;241m=\u001b[39m \u001b[38;5;28;43mself\u001b[39;49m\u001b[38;5;241;43m.\u001b[39;49m\u001b[43mtarget_function\u001b[49m\u001b[43m(\u001b[49m\u001b[43mzs\u001b[49m\u001b[43m \u001b[49m\u001b[38;5;241;43m-\u001b[39;49m\u001b[43m \u001b[49m\u001b[43mepsilon\u001b[49m\u001b[43m,\u001b[49m\u001b[43m \u001b[49m\u001b[43mnode_mask\u001b[49m\u001b[43m,\u001b[49m\u001b[43m \u001b[49m\u001b[43medge_mask\u001b[49m\u001b[43m,\u001b[49m\u001b[43m \u001b[49m\u001b[43mcontext\u001b[49m\u001b[43m,\u001b[49m\u001b[43m \u001b[49m\u001b[43mfix_noise\u001b[49m\u001b[43m,\u001b[49m\u001b[43m \u001b[49m\u001b[43mdataset_info\u001b[49m\u001b[43m,\u001b[49m\u001b[43m \u001b[49m\u001b[43mt\u001b[49m\u001b[43m)\u001b[49m\n\u001b[0;32m    787\u001b[0m \u001b[38;5;28;01mif\u001b[39;00m counter \u001b[38;5;241m%\u001b[39m \u001b[38;5;241m100\u001b[39m \u001b[38;5;241m==\u001b[39m \u001b[38;5;241m0\u001b[39m:\n\u001b[0;32m    788\u001b[0m     \u001b[38;5;28mprint\u001b[39m(\u001b[38;5;124mf\u001b[39m\u001b[38;5;124m\"\u001b[39m\u001b[38;5;124mReward plus: \u001b[39m\u001b[38;5;132;01m{\u001b[39;00mreward_plus\u001b[38;5;241m.\u001b[39mmean()\u001b[38;5;241m.\u001b[39mitem()\u001b[38;5;132;01m}\u001b[39;00m\u001b[38;5;124m, Reward minus: \u001b[39m\u001b[38;5;132;01m{\u001b[39;00mreward_minus\u001b[38;5;241m.\u001b[39mmean()\u001b[38;5;241m.\u001b[39mitem()\u001b[38;5;132;01m}\u001b[39;00m\u001b[38;5;124m\"\u001b[39m)\n",
      "File \u001b[1;32md:\\Projects\\e3_diffusion_for_molecules\\equivariant_diffusion\\en_diffusion.py:749\u001b[0m, in \u001b[0;36mEnVariationalDiffusion.target_function\u001b[1;34m(self, zs, node_mask, edge_mask, context, fix_noise, dataset_info, t)\u001b[0m\n\u001b[0;32m    747\u001b[0m \u001b[38;5;28;01mdef\u001b[39;00m \u001b[38;5;21mtarget_function\u001b[39m(\u001b[38;5;28mself\u001b[39m, zs, node_mask, edge_mask, context, fix_noise, dataset_info, t):\n\u001b[0;32m    748\u001b[0m     \u001b[38;5;28;01mwith\u001b[39;00m suppress_stdout_stderr():\n\u001b[1;32m--> 749\u001b[0m         molecules \u001b[38;5;241m=\u001b[39m \u001b[38;5;28;43mself\u001b[39;49m\u001b[38;5;241;43m.\u001b[39;49m\u001b[43mdecode\u001b[49m\u001b[43m(\u001b[49m\u001b[43mzs\u001b[49m\u001b[43m,\u001b[49m\u001b[43m \u001b[49m\u001b[43mnode_mask\u001b[49m\u001b[43m,\u001b[49m\u001b[43m \u001b[49m\u001b[43medge_mask\u001b[49m\u001b[43m,\u001b[49m\u001b[43m \u001b[49m\u001b[43mcontext\u001b[49m\u001b[43m,\u001b[49m\u001b[43m \u001b[49m\u001b[43mfix_noise\u001b[49m\u001b[43m,\u001b[49m\u001b[43m \u001b[49m\u001b[43mdataset_info\u001b[49m\u001b[43m)\u001b[49m\n\u001b[0;32m    750\u001b[0m         oracle \u001b[38;5;241m=\u001b[39m Oracle(\u001b[38;5;124m\"\u001b[39m\u001b[38;5;124mDRD2\u001b[39m\u001b[38;5;124m\"\u001b[39m)\n\u001b[0;32m    751\u001b[0m         results \u001b[38;5;241m=\u001b[39m []\n",
      "File \u001b[1;32md:\\Projects\\e3_diffusion_for_molecules\\equivariant_diffusion\\en_diffusion.py:742\u001b[0m, in \u001b[0;36mEnVariationalDiffusion.decode\u001b[1;34m(self, zs, node_mask, edge_mask, context, fix_noise, dataset_info)\u001b[0m\n\u001b[0;32m    739\u001b[0m molecules \u001b[38;5;241m=\u001b[39m []  \n\u001b[0;32m    741\u001b[0m \u001b[38;5;28;01mfor\u001b[39;00m (p, one_hot) \u001b[38;5;129;01min\u001b[39;00m \u001b[38;5;28mzip\u001b[39m(x, h[\u001b[38;5;124m\"\u001b[39m\u001b[38;5;124mcategorical\u001b[39m\u001b[38;5;124m\"\u001b[39m]):\n\u001b[1;32m--> 742\u001b[0m     mol \u001b[38;5;241m=\u001b[39m \u001b[43mbuild_molecule_from_coordinates_and_onehot\u001b[49m\u001b[43m(\u001b[49m\u001b[43mp\u001b[49m\u001b[43m,\u001b[49m\u001b[43m \u001b[49m\u001b[43mone_hot\u001b[49m\u001b[43m,\u001b[49m\u001b[43mdataset_info\u001b[49m\u001b[43m)\u001b[49m\n\u001b[0;32m    743\u001b[0m     molecules\u001b[38;5;241m.\u001b[39mappend(Chem\u001b[38;5;241m.\u001b[39mMolToSmiles(mol))\n\u001b[0;32m    745\u001b[0m \u001b[38;5;28;01mreturn\u001b[39;00m molecules\n",
      "File \u001b[1;32md:\\Projects\\e3_diffusion_for_molecules\\qm9\\rdkit_functions.py:152\u001b[0m, in \u001b[0;36mbuild_molecule_from_coordinates_and_onehot\u001b[1;34m(positions, one_hot, dataset_info)\u001b[0m\n\u001b[0;32m    150\u001b[0m atom_decoder \u001b[38;5;241m=\u001b[39m dataset_info[\u001b[38;5;124m\"\u001b[39m\u001b[38;5;124matom_decoder\u001b[39m\u001b[38;5;124m\"\u001b[39m]\n\u001b[0;32m    151\u001b[0m atom_types \u001b[38;5;241m=\u001b[39m torch\u001b[38;5;241m.\u001b[39margmax(one_hot, dim\u001b[38;5;241m=\u001b[39m\u001b[38;5;241m1\u001b[39m)\u001b[38;5;241m.\u001b[39mcpu()\u001b[38;5;241m.\u001b[39mnumpy()\n\u001b[1;32m--> 152\u001b[0m X, A, E \u001b[38;5;241m=\u001b[39m \u001b[43mbuild_XAE_molecule_from_3D_coord\u001b[49m\u001b[43m(\u001b[49m\u001b[43mpositions\u001b[49m\u001b[43m,\u001b[49m\u001b[43m \u001b[49m\u001b[43matom_types\u001b[49m\u001b[43m,\u001b[49m\u001b[43m \u001b[49m\u001b[43mdataset_info\u001b[49m\u001b[43m)\u001b[49m\n\u001b[0;32m    154\u001b[0m mol \u001b[38;5;241m=\u001b[39m Chem\u001b[38;5;241m.\u001b[39mRWMol()\n\u001b[0;32m    155\u001b[0m \u001b[38;5;28;01mfor\u001b[39;00m atom \u001b[38;5;129;01min\u001b[39;00m X:\n",
      "File \u001b[1;32md:\\Projects\\e3_diffusion_for_molecules\\qm9\\rdkit_functions.py:177\u001b[0m, in \u001b[0;36mbuild_XAE_molecule_from_3D_coord\u001b[1;34m(positions, atom_types, dataset_info)\u001b[0m\n\u001b[0;32m    175\u001b[0m pair \u001b[38;5;241m=\u001b[39m \u001b[38;5;28msorted\u001b[39m([atom_types[i], atom_types[j]])\n\u001b[0;32m    176\u001b[0m \u001b[38;5;28;01mif\u001b[39;00m dataset_info[\u001b[38;5;124m'\u001b[39m\u001b[38;5;124mname\u001b[39m\u001b[38;5;124m'\u001b[39m] \u001b[38;5;241m==\u001b[39m \u001b[38;5;124m'\u001b[39m\u001b[38;5;124mqm9\u001b[39m\u001b[38;5;124m'\u001b[39m \u001b[38;5;129;01mor\u001b[39;00m dataset_info[\u001b[38;5;124m'\u001b[39m\u001b[38;5;124mname\u001b[39m\u001b[38;5;124m'\u001b[39m] \u001b[38;5;241m==\u001b[39m \u001b[38;5;124m'\u001b[39m\u001b[38;5;124mqm9_second_half\u001b[39m\u001b[38;5;124m'\u001b[39m \u001b[38;5;129;01mor\u001b[39;00m dataset_info[\u001b[38;5;124m'\u001b[39m\u001b[38;5;124mname\u001b[39m\u001b[38;5;124m'\u001b[39m] \u001b[38;5;241m==\u001b[39m \u001b[38;5;124m'\u001b[39m\u001b[38;5;124mqm9_first_half\u001b[39m\u001b[38;5;124m'\u001b[39m:\n\u001b[1;32m--> 177\u001b[0m     order \u001b[38;5;241m=\u001b[39m \u001b[43mget_bond_order\u001b[49m\u001b[43m(\u001b[49m\u001b[43matom_decoder\u001b[49m\u001b[43m[\u001b[49m\u001b[43mpair\u001b[49m\u001b[43m[\u001b[49m\u001b[38;5;241;43m0\u001b[39;49m\u001b[43m]\u001b[49m\u001b[43m]\u001b[49m\u001b[43m,\u001b[49m\u001b[43m \u001b[49m\u001b[43matom_decoder\u001b[49m\u001b[43m[\u001b[49m\u001b[43mpair\u001b[49m\u001b[43m[\u001b[49m\u001b[38;5;241;43m1\u001b[39;49m\u001b[43m]\u001b[49m\u001b[43m]\u001b[49m\u001b[43m,\u001b[49m\u001b[43m \u001b[49m\u001b[43mdists\u001b[49m\u001b[43m[\u001b[49m\u001b[43mi\u001b[49m\u001b[43m,\u001b[49m\u001b[43m \u001b[49m\u001b[43mj\u001b[49m\u001b[43m]\u001b[49m\u001b[43m)\u001b[49m\n\u001b[0;32m    178\u001b[0m \u001b[38;5;28;01melif\u001b[39;00m dataset_info[\u001b[38;5;124m'\u001b[39m\u001b[38;5;124mname\u001b[39m\u001b[38;5;124m'\u001b[39m] \u001b[38;5;241m==\u001b[39m \u001b[38;5;124m'\u001b[39m\u001b[38;5;124mgeom\u001b[39m\u001b[38;5;124m'\u001b[39m:\n\u001b[0;32m    179\u001b[0m     order \u001b[38;5;241m=\u001b[39m geom_predictor((atom_decoder[pair[\u001b[38;5;241m0\u001b[39m]], atom_decoder[pair[\u001b[38;5;241m1\u001b[39m]]), dists[i, j], limit_bonds_to_one\u001b[38;5;241m=\u001b[39m\u001b[38;5;28;01mTrue\u001b[39;00m)\n",
      "File \u001b[1;32md:\\Projects\\e3_diffusion_for_molecules\\qm9\\bond_analyze.py:102\u001b[0m, in \u001b[0;36mget_bond_order\u001b[1;34m(atom1, atom2, distance, check_exists)\u001b[0m\n\u001b[0;32m    101\u001b[0m \u001b[38;5;28;01mdef\u001b[39;00m \u001b[38;5;21mget_bond_order\u001b[39m(atom1, atom2, distance, check_exists\u001b[38;5;241m=\u001b[39m\u001b[38;5;28;01mFalse\u001b[39;00m):\n\u001b[1;32m--> 102\u001b[0m     distance \u001b[38;5;241m=\u001b[39m \u001b[38;5;241;43m100\u001b[39;49m\u001b[43m \u001b[49m\u001b[38;5;241;43m*\u001b[39;49m\u001b[43m \u001b[49m\u001b[43mdistance\u001b[49m  \u001b[38;5;66;03m# We change the metric\u001b[39;00m\n\u001b[0;32m    104\u001b[0m     \u001b[38;5;66;03m# Check exists for large molecules where some atom pairs do not have a\u001b[39;00m\n\u001b[0;32m    105\u001b[0m     \u001b[38;5;66;03m# typical bond length.\u001b[39;00m\n\u001b[0;32m    106\u001b[0m     \u001b[38;5;28;01mif\u001b[39;00m check_exists:\n",
      "\u001b[1;31mKeyboardInterrupt\u001b[0m: "
     ]
    }
   ],
   "source": [
    "print('Sampling handful of molecules.')\n",
    "# sample_different_sizes_and_save(\n",
    "#     args, eval_args, device, flow, nodes_dist,\n",
    "#     dataset_info=dataset_info, n_samples=29)\n",
    "\n",
    "print('Sampling stable molecules.')\n",
    "sample_only_stable_different_sizes_and_save(\n",
    "    args, eval_args, device, flow, nodes_dist,\n",
    "    dataset_info=dataset_info, n_samples=3, n_tries=2*10)"
   ]
  },
  {
   "cell_type": "code",
   "execution_count": 40,
   "metadata": {},
   "outputs": [],
   "source": [
    "vis.visualize(\n",
    "    join(eval_args.model_path, 'eval/molecules/'), dataset_info,\n",
    "    max_num=100, spheres_3d=True)"
   ]
  },
  {
   "cell_type": "code",
   "execution_count": null,
   "metadata": {},
   "outputs": [],
   "source": [
    "print('Sampling visualization chain.')\n",
    "save_and_sample_chain(\n",
    "    args, eval_args, device, flow,\n",
    "    n_tries=eval_args.n_tries, n_nodes=eval_args.n_nodes,\n",
    "    dataset_info=dataset_info)"
   ]
  }
 ],
 "metadata": {
  "kernelspec": {
   "display_name": "gaudi",
   "language": "python",
   "name": "python3"
  },
  "language_info": {
   "codemirror_mode": {
    "name": "ipython",
    "version": 3
   },
   "file_extension": ".py",
   "mimetype": "text/x-python",
   "name": "python",
   "nbconvert_exporter": "python",
   "pygments_lexer": "ipython3",
   "version": "3.8.20"
  }
 },
 "nbformat": 4,
 "nbformat_minor": 2
}
