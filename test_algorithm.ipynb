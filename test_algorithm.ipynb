{
 "cells": [
  {
   "cell_type": "code",
   "execution_count": 13,
   "metadata": {},
   "outputs": [
    {
     "name": "stdout",
     "output_type": "stream",
     "text": [
      "The autoreload extension is already loaded. To reload it, use:\n",
      "  %reload_ext autoreload\n"
     ]
    }
   ],
   "source": [
    "%load_ext autoreload\n",
    "%autoreload 2\n",
    "\n",
    "import qm9.visualizer as vis\n",
    "from eval_sample import *\n",
    "import argparse\n",
    "import warnings"
   ]
  },
  {
   "cell_type": "code",
   "execution_count": 14,
   "metadata": {},
   "outputs": [
    {
     "name": "stdout",
     "output_type": "stream",
     "text": [
      "outputs/edm_qm9\\args.pickle\n",
      "Namespace(actnorm=True, aggregation_method='sum', attention=True, augment_noise=0, batch_size=64, break_train_epoch=False, brute_force=False, clip_grad=True, condition_time=True, conditioning=[], context_node_nf=0, cuda=True, current_epoch=1001, data_augmentation=False, datadir='qm9/temp', dataset='qm9', dequantization='argmax_variational', device=device(type='cuda'), diffusion_loss_type='l2', diffusion_noise_precision=1e-05, diffusion_noise_schedule='polynomial_2', diffusion_steps=1000, dp=True, ema_decay=0.9999, exp_name='polynomial_2_final_0', filter_n_atoms=None, generate_epochs=1, include_charges=True, inv_sublayers=1, lr=0.0001, model='egnn_dynamics', n_epochs=3000, n_layers=9, n_report_steps=1, n_stability_samples=1000, nf=256, no_cuda=False, no_wandb=False, norm_constant=1, normalization_factor=1, normalize_factors=[1, 4, 10], num_workers=0, ode_regularization=0.001, online=True, probabilistic_model='diffusion', remove_h=False, resume=None, save_model=True, sin_embedding=False, start_epoch=0, tanh=True, test_epochs=20, trace='hutch', visualize_every_batch=100000000.0, wandb_usr=None)\n",
      "{'name': 'qm9', 'atom_encoder': {'H': 0, 'C': 1, 'N': 2, 'O': 3, 'F': 4}, 'atom_decoder': ['H', 'C', 'N', 'O', 'F'], 'n_nodes': {22: 3393, 17: 13025, 23: 4848, 21: 9970, 19: 13832, 20: 9482, 16: 10644, 13: 3060, 15: 7796, 25: 1506, 18: 13364, 12: 1689, 11: 807, 24: 539, 14: 5136, 26: 48, 7: 16, 10: 362, 8: 49, 9: 124, 27: 266, 4: 4, 29: 25, 6: 9, 5: 5, 3: 1}, 'max_n_nodes': 29, 'atom_types': {1: 635559, 2: 101476, 0: 923537, 3: 140202, 4: 2323}, 'distances': [903054, 307308, 111994, 57474, 40384, 29170, 47152, 414344, 2202212, 573726, 1490786, 2970978, 756818, 969276, 489242, 1265402, 4587994, 3187130, 2454868, 2647422, 2098884, 2001974, 1625206, 1754172, 1620830, 1710042, 2133746, 1852492, 1415318, 1421064, 1223156, 1322256, 1380656, 1239244, 1084358, 981076, 896904, 762008, 659298, 604676, 523580, 437464, 413974, 352372, 291886, 271948, 231328, 188484, 160026, 136322, 117850, 103546, 87192, 76562, 61840, 49666, 43100, 33876, 26686, 22402, 18358, 15518, 13600, 12128, 9480, 7458, 5088, 4726, 3696, 3362, 3396, 2484, 1988, 1490, 984, 734, 600, 456, 482, 378, 362, 168, 124, 94, 88, 52, 44, 40, 18, 16, 8, 6, 2, 0, 0, 0, 0, 0, 0, 0], 'colors_dic': ['#FFFFFF99', 'C7', 'C0', 'C3', 'C1'], 'radius_dic': [0.46, 0.77, 0.77, 0.77, 0.77], 'with_h': True}\n",
      "Entropy of n_nodes: H[N] -2.475700616836548\n",
      "alphas2 [9.99990000e-01 9.99988000e-01 9.99982000e-01 ... 2.59676966e-05\n",
      " 1.39959211e-05 1.00039959e-05]\n",
      "gamma [-11.51291546 -11.33059532 -10.92513058 ...  10.55863126  11.17673063\n",
      "  11.51251595]\n"
     ]
    },
    {
     "data": {
      "text/plain": [
       "<All keys matched successfully>"
      ]
     },
     "execution_count": 14,
     "metadata": {},
     "output_type": "execute_result"
    }
   ],
   "source": [
    "parser = argparse.ArgumentParser()\n",
    "parser.add_argument('--model_path', type=str,\n",
    "                    default=\"outputs/edm_qm9\",\n",
    "                    help='Specify model path')\n",
    "parser.add_argument(\n",
    "    '--n_tries', type=int, default=10,\n",
    "    help='N tries to find stable molecule for gif animation')\n",
    "parser.add_argument('--n_nodes', type=int, default=19,\n",
    "                    help='number of atoms in molecule for gif animation')\n",
    "\n",
    "eval_args, unparsed_args = parser.parse_known_args()\n",
    "\n",
    "assert eval_args.model_path is not None\n",
    "\n",
    "print(join(eval_args.model_path, 'args.pickle'))\n",
    "\n",
    "with open(join(eval_args.model_path, 'args.pickle'), 'rb') as f:\n",
    "    args = pickle.load(f)\n",
    "\n",
    "# CAREFUL with this -->\n",
    "if not hasattr(args, 'normalization_factor'):\n",
    "    args.normalization_factor = 1\n",
    "if not hasattr(args, 'aggregation_method'):\n",
    "    args.aggregation_method = 'sum'\n",
    "\n",
    "args.cuda = not args.no_cuda and torch.cuda.is_available()\n",
    "device = torch.device(\"cuda\" if args.cuda else \"cpu\")\n",
    "args.device = device\n",
    "dtype = torch.float32\n",
    "utils.create_folders(args)\n",
    "print(args)\n",
    "\n",
    "dataset_info = get_dataset_info(args.dataset, args.remove_h)\n",
    "\n",
    "print(dataset_info)\n",
    "\n",
    "dataloaders, charge_scale = dataset.retrieve_dataloaders(args)\n",
    "\n",
    "flow, nodes_dist, prop_dist = get_model(\n",
    "    args, device, dataset_info, dataloaders['train'])\n",
    "flow.to(device)\n",
    "\n",
    "fn = 'generative_model_ema.npy' if args.ema_decay > 0 else 'generative_model.npy'\n",
    "flow_state_dict = torch.load(join(eval_args.model_path, fn),\n",
    "                                map_location=device)\n",
    "\n",
    "flow.load_state_dict(flow_state_dict)"
   ]
  },
  {
   "cell_type": "code",
   "execution_count": 30,
   "metadata": {},
   "outputs": [
    {
     "name": "stdout",
     "output_type": "stream",
     "text": [
      "['c:\\\\Users\\\\crist\\\\anaconda3\\\\envs\\\\gaudi', 'c:\\\\Users\\\\crist\\\\anaconda3\\\\envs\\\\gaudi\\\\lib\\\\site-packages']\n"
     ]
    }
   ],
   "source": [
    "import site\n",
    "print(site.getsitepackages())"
   ]
  },
  {
   "cell_type": "code",
   "execution_count": 41,
   "metadata": {},
   "outputs": [
    {
     "name": "stdout",
     "output_type": "stream",
     "text": [
      "Sampling handful of molecules.\n",
      "Sampling stable molecules.\n"
     ]
    },
    {
     "name": "stderr",
     "output_type": "stream",
     "text": [
      "  1%|          | 9/1000 [00:48<1:29:54,  5.44s/it]\n"
     ]
    },
    {
     "name": "stdout",
     "output_type": "stream",
     "text": [
      "Unexpected exception formatting exception. Falling back to standard exception\n"
     ]
    },
    {
     "name": "stderr",
     "output_type": "stream",
     "text": [
      "Traceback (most recent call last):\n",
      "  File \"c:\\Users\\crist\\anaconda3\\envs\\gaudi\\lib\\site-packages\\IPython\\core\\interactiveshell.py\", line 3508, in run_code\n",
      "    exec(code_obj, self.user_global_ns, self.user_ns)\n",
      "  File \"C:\\Users\\crist\\AppData\\Local\\Temp\\ipykernel_29344\\1166628403.py\", line 7, in <module>\n",
      "    sample_only_stable_different_sizes_and_save(\n",
      "  File \"d:\\Projects\\e3_diffusion_for_molecules\\eval_sample.py\", line 68, in sample_only_stable_different_sizes_and_save\n",
      "    one_hot, charges, x, node_mask = sample(\n",
      "  File \"d:\\Projects\\e3_diffusion_for_molecules\\qm9\\sampling.py\", line 139, in sample\n",
      "    x, h = generative_model.sample(batch_size, max_n_nodes, node_mask, edge_mask, context, fix_noise=fix_noise, dataset_info = dataset_info)\n",
      "  File \"c:\\Users\\crist\\anaconda3\\envs\\gaudi\\lib\\site-packages\\torch\\autograd\\grad_mode.py\", line 28, in decorate_context\n",
      "    return func(*args, **kwargs)\n",
      "  File \"d:\\Projects\\e3_diffusion_for_molecules\\equivariant_diffusion\\en_diffusion.py\", line 864, in sample\n",
      "  File \"d:\\Projects\\e3_diffusion_for_molecules\\equivariant_diffusion\\en_diffusion.py\", line 828, in sample_p_zs_given_zt\n",
      "    def sample_combined_position_feature_noise(self, n_samples, n_nodes, node_mask):\n",
      "  File \"d:\\Projects\\e3_diffusion_for_molecules\\equivariant_diffusion\\en_diffusion.py\", line 786, in finite_difference_update_with_target_function\n",
      "  File \"d:\\Projects\\e3_diffusion_for_molecules\\equivariant_diffusion\\en_diffusion.py\", line 750, in target_function\n",
      "    oracle = Oracle(\"DRD2\")\n",
      "  File \"d:\\Projects\\e3_diffusion_for_molecules\\equivariant_diffusion\\en_diffusion.py\", line 742, in decode\n",
      "    mol = build_molecule_from_coordinates_and_onehot(p, one_hot,dataset_info)\n",
      "  File \"d:\\Projects\\e3_diffusion_for_molecules\\qm9\\rdkit_functions.py\", line 152, in build_molecule_from_coordinates_and_onehot\n",
      "    X, A, E = build_XAE_molecule_from_3D_coord(positions, atom_types, dataset_info)\n",
      "  File \"d:\\Projects\\e3_diffusion_for_molecules\\qm9\\rdkit_functions.py\", line 177, in build_XAE_molecule_from_3D_coord\n",
      "    order = get_bond_order(atom_decoder[pair[0]], atom_decoder[pair[1]], dists[i, j])\n",
      "  File \"d:\\Projects\\e3_diffusion_for_molecules\\qm9\\bond_analyze.py\", line 114, in get_bond_order\n",
      "    if distance < bonds1[atom1][atom2] + margin1:\n",
      "KeyboardInterrupt\n",
      "\n",
      "During handling of the above exception, another exception occurred:\n",
      "\n",
      "Traceback (most recent call last):\n",
      "  File \"c:\\Users\\crist\\anaconda3\\envs\\gaudi\\lib\\site-packages\\IPython\\core\\interactiveshell.py\", line 2105, in showtraceback\n",
      "    stb = self.InteractiveTB.structured_traceback(\n",
      "  File \"c:\\Users\\crist\\anaconda3\\envs\\gaudi\\lib\\site-packages\\IPython\\core\\ultratb.py\", line 1396, in structured_traceback\n",
      "    return FormattedTB.structured_traceback(\n",
      "  File \"c:\\Users\\crist\\anaconda3\\envs\\gaudi\\lib\\site-packages\\IPython\\core\\ultratb.py\", line 1287, in structured_traceback\n",
      "    return VerboseTB.structured_traceback(\n",
      "  File \"c:\\Users\\crist\\anaconda3\\envs\\gaudi\\lib\\site-packages\\IPython\\core\\ultratb.py\", line 1140, in structured_traceback\n",
      "    formatted_exception = self.format_exception_as_a_whole(etype, evalue, etb, number_of_lines_of_context,\n",
      "  File \"c:\\Users\\crist\\anaconda3\\envs\\gaudi\\lib\\site-packages\\IPython\\core\\ultratb.py\", line 1055, in format_exception_as_a_whole\n",
      "    frames.append(self.format_record(record))\n",
      "  File \"c:\\Users\\crist\\anaconda3\\envs\\gaudi\\lib\\site-packages\\IPython\\core\\ultratb.py\", line 955, in format_record\n",
      "    frame_info.lines, Colors, self.has_colors, lvals\n",
      "  File \"c:\\Users\\crist\\anaconda3\\envs\\gaudi\\lib\\site-packages\\IPython\\core\\ultratb.py\", line 778, in lines\n",
      "    return self._sd.lines\n",
      "  File \"c:\\Users\\crist\\anaconda3\\envs\\gaudi\\lib\\site-packages\\stack_data\\utils.py\", line 144, in cached_property_wrapper\n",
      "    value = obj.__dict__[self.func.__name__] = self.func(obj)\n",
      "  File \"c:\\Users\\crist\\anaconda3\\envs\\gaudi\\lib\\site-packages\\stack_data\\core.py\", line 734, in lines\n",
      "    pieces = self.included_pieces\n",
      "  File \"c:\\Users\\crist\\anaconda3\\envs\\gaudi\\lib\\site-packages\\stack_data\\utils.py\", line 144, in cached_property_wrapper\n",
      "    value = obj.__dict__[self.func.__name__] = self.func(obj)\n",
      "  File \"c:\\Users\\crist\\anaconda3\\envs\\gaudi\\lib\\site-packages\\stack_data\\core.py\", line 681, in included_pieces\n",
      "    pos = scope_pieces.index(self.executing_piece)\n",
      "  File \"c:\\Users\\crist\\anaconda3\\envs\\gaudi\\lib\\site-packages\\stack_data\\utils.py\", line 144, in cached_property_wrapper\n",
      "    value = obj.__dict__[self.func.__name__] = self.func(obj)\n",
      "  File \"c:\\Users\\crist\\anaconda3\\envs\\gaudi\\lib\\site-packages\\stack_data\\core.py\", line 660, in executing_piece\n",
      "    return only(\n",
      "  File \"c:\\Users\\crist\\anaconda3\\envs\\gaudi\\lib\\site-packages\\executing\\executing.py\", line 116, in only\n",
      "    raise NotOneValueFound('Expected one value, found 0')\n",
      "executing.executing.NotOneValueFound: Expected one value, found 0\n"
     ]
    }
   ],
   "source": [
    "print('Sampling handful of molecules.')\n",
    "# sample_different_sizes_and_save(\n",
    "#     args, eval_args, device, flow, nodes_dist,\n",
    "#     dataset_info=dataset_info, n_samples=29)\n",
    "\n",
    "print('Sampling stable molecules.')\n",
    "sample_only_stable_different_sizes_and_save(\n",
    "    args, eval_args, device, flow, nodes_dist,\n",
    "    dataset_info=dataset_info, n_samples=3, n_tries=2*10)"
   ]
  },
  {
   "cell_type": "code",
   "execution_count": 40,
   "metadata": {},
   "outputs": [],
   "source": [
    "vis.visualize(\n",
    "    join(eval_args.model_path, 'eval/molecules/'), dataset_info,\n",
    "    max_num=100, spheres_3d=True)"
   ]
  },
  {
   "cell_type": "code",
   "execution_count": null,
   "metadata": {},
   "outputs": [],
   "source": [
    "print('Sampling visualization chain.')\n",
    "save_and_sample_chain(\n",
    "    args, eval_args, device, flow,\n",
    "    n_tries=eval_args.n_tries, n_nodes=eval_args.n_nodes,\n",
    "    dataset_info=dataset_info)"
   ]
  }
 ],
 "metadata": {
  "kernelspec": {
   "display_name": "gaudi",
   "language": "python",
   "name": "python3"
  },
  "language_info": {
   "codemirror_mode": {
    "name": "ipython",
    "version": 3
   },
   "file_extension": ".py",
   "mimetype": "text/x-python",
   "name": "python",
   "nbconvert_exporter": "python",
   "pygments_lexer": "ipython3",
   "version": "3.8.20"
  }
 },
 "nbformat": 4,
 "nbformat_minor": 2
}
